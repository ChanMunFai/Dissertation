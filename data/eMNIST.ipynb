{
 "cells": [
  {
   "cell_type": "markdown",
   "metadata": {},
   "source": [
    "# eMNIST \n",
    "\n",
    "Transform MovingMNIST digits by rotating and shifting them. \n",
    "\n",
    "Challenges\n",
    "- When rotating an image, by default, we may rotate it from the center. \n",
    "- However, that is not the same as just rotating the object. \n",
    "- Thus, when we combine rotations and shifts, the shifts do not really work because the rotatations undo some of the shifting. \n",
    "\n",
    "Proposed solution: \n",
    "- Use a different package for rotation, which allows us to rotate the image according to a center. \n",
    "- This center will be the center of the object (digit) and we will keep track of this center according to our shifts. \\"
   ]
  },
  {
   "cell_type": "code",
   "execution_count": null,
   "metadata": {
    "vscode": {
     "languageId": "plaintext"
    }
   },
   "outputs": [],
   "source": [
    "import mnist\n",
    "import numpy as np\n",
    "import scipy.ndimage\n",
    "from tqdm import tqdm\n",
    "import os \n",
    "from os import path\n",
    "import matplotlib.pyplot as plt \n",
    "from cv2 import cv2"
   ]
  },
  {
   "cell_type": "markdown",
   "metadata": {},
   "source": []
  }
 ],
 "metadata": {
  "language_info": {
   "name": "python"
  },
  "orig_nbformat": 4
 },
 "nbformat": 4,
 "nbformat_minor": 2
}
