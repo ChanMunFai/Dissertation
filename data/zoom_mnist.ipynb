{
 "cells": [
  {
   "cell_type": "code",
   "execution_count": 64,
   "metadata": {},
   "outputs": [],
   "source": [
    "import mnist\n",
    "import numpy as np\n",
    "import scipy.ndimage\n",
    "from tqdm import tqdm\n",
    "import os \n",
    "from os import path\n",
    "import matplotlib.pyplot as plt \n",
    "from cv2 import cv2"
   ]
  },
  {
   "cell_type": "code",
   "execution_count": 192,
   "metadata": {},
   "outputs": [],
   "source": [
    "def get_rotations(img, rotation_steps):\n",
    "    # print(rotation_steps) # 36 degrees at each rotation step \n",
    "    for rot in rotation_steps:\n",
    "        img = scipy.ndimage.rotate(img, rot, reshape=False)\n",
    "        yield img\n",
    "\n",
    "def binarize(img):\n",
    "    return img > 127\n",
    "\n",
    "def heal_image(img, seq_len):\n",
    "    rotations = []\n",
    "    rotation_steps = [360*2/seq_len]*seq_len\n",
    "    for idx, rotation in enumerate(get_rotations(img, rotation_steps)):\n",
    "        rotations.append(binarize(rotation))\n",
    "    return rotations, rotation_steps"
   ]
  },
  {
   "cell_type": "code",
   "execution_count": 45,
   "metadata": {},
   "outputs": [],
   "source": [
    "class HealingMNIST():\n",
    "    def __init__(self, filepath, seq_len=5, digits=range(10), train_len = 10000, test_len = 1000):\n",
    "        self.mnist_train = [(img, label) for img, label in zip(mnist.train_images()[:train_len], mnist.train_labels()[:train_len]) if label in digits]\n",
    "        self.mnist_test = [(img, label) for img, label in zip(mnist.test_images()[:test_len], mnist.test_labels()[:test_len]) if label in digits]        \n",
    "        \n",
    "        train_images = []\n",
    "        test_images = []\n",
    "\n",
    "        self.seq_len = seq_len \n",
    "\n",
    "    def generate_train(self): \n",
    "        # remove the saving function \n",
    "        for i, (img, label) in tqdm(enumerate(self.mnist_train)):\n",
    "            train_img, train_rot = heal_image(img, self.seq_len)\n",
    "            train_img = np.asarray(train_img).astype(np.float32)\n",
    "            image = np.zeros((self.seq_len, 32,32))\n",
    "            image[:, 2:30, 2:30] = train_img\n",
    "        \n",
    "        return image \n",
    "\n",
    "healing_mnist = HealingMNIST(filepath = None, seq_len = 20, train_len= 2, test_len=0)"
   ]
  },
  {
   "cell_type": "code",
   "execution_count": 46,
   "metadata": {},
   "outputs": [
    {
     "name": "stderr",
     "output_type": "stream",
     "text": [
      "2it [00:00, 129.27it/s]"
     ]
    },
    {
     "name": "stdout",
     "output_type": "stream",
     "text": [
      "[36.0, 36.0, 36.0, 36.0, 36.0, 36.0, 36.0, 36.0, 36.0, 36.0, 36.0, 36.0, 36.0, 36.0, 36.0, 36.0, 36.0, 36.0, 36.0, 36.0]\n",
      "[36.0, 36.0, 36.0, 36.0, 36.0, 36.0, 36.0, 36.0, 36.0, 36.0, 36.0, 36.0, 36.0, 36.0, 36.0, 36.0, 36.0, 36.0, 36.0, 36.0]\n"
     ]
    },
    {
     "name": "stderr",
     "output_type": "stream",
     "text": [
      "\n"
     ]
    }
   ],
   "source": [
    "sample = healing_mnist.generate_train()"
   ]
  },
  {
   "cell_type": "code",
   "execution_count": 49,
   "metadata": {},
   "outputs": [
    {
     "name": "stdout",
     "output_type": "stream",
     "text": [
      "(20, 32, 32)\n"
     ]
    },
    {
     "data": {
      "text/plain": [
       "<matplotlib.image.AxesImage at 0x7fa7eebb54d0>"
      ]
     },
     "execution_count": 49,
     "metadata": {},
     "output_type": "execute_result"
    },
    {
     "data": {
      "image/png": "[encoded data removed]",
      "text/plain": [
       "<Figure size 432x288 with 1 Axes>"
      ]
     },
     "metadata": {
      "needs_background": "light"
     },
     "output_type": "display_data"
    }
   ],
   "source": [
    "print(sample.shape)\n",
    "plt.imshow(np.concatenate(sample, axis = 1))"
   ]
  },
  {
   "cell_type": "markdown",
   "metadata": {},
   "source": [
    "### Zoom \n",
    "\n",
    "Now we test zoom, using zoom from scipy.ndimage"
   ]
  },
  {
   "cell_type": "code",
   "execution_count": 113,
   "metadata": {},
   "outputs": [],
   "source": [
    "def get_zoom(img, zoom_steps):\n",
    "    print(zoom_steps) # 36 degrees at each rotation step \n",
    "    for zoom_factor in zoom_steps:\n",
    "        img = cv2_clipped_zoom(img, zoom_factor)\n",
    "        yield img\n",
    "\n",
    "def zoom_image(img, seq_len):\n",
    "    zoom_list = []\n",
    "    zoom_steps = [0.999, 1.001]* int(seq_len)\n",
    "    for idx, zoom in enumerate(get_zoom(img, zoom_steps)):\n",
    "        zoom_list.append(binarize(zoom))\n",
    "    return zoom_list, zoom_steps\n",
    "\n",
    "class ZoomMNIST():\n",
    "    def __init__(self, filepath, seq_len=5, digits=range(10), train_len = 10000, test_len = 1000):\n",
    "        self.mnist_train = [(img, label) for img, label in zip(mnist.train_images()[:train_len], mnist.train_labels()[:train_len]) if label in digits]\n",
    "        self.mnist_test = [(img, label) for img, label in zip(mnist.test_images()[:test_len], mnist.test_labels()[:test_len]) if label in digits]        \n",
    "        \n",
    "        train_images = []\n",
    "        test_images = []\n",
    "\n",
    "        self.seq_len = seq_len \n",
    "\n",
    "    def generate_train(self): \n",
    "        # remove the saving function \n",
    "        for i, (img, label) in tqdm(enumerate(self.mnist_train)):\n",
    "            train_img, train_rot = zoom_image(img, self.seq_len)\n",
    "            train_img = np.asarray(train_img).astype(np.float32)\n",
    "            image = np.zeros((self.seq_len, 32,32))\n",
    "            image[:, 2:30, 2:30] = train_img\n",
    "        \n",
    "        return image \n",
    "\n",
    "zoom_mnist = ZoomMNIST(filepath = None, seq_len = 20, train_len= 1, test_len=0)"
   ]
  },
  {
   "cell_type": "code",
   "execution_count": 114,
   "metadata": {},
   "outputs": [
    {
     "name": "stderr",
     "output_type": "stream",
     "text": [
      "1it [00:00, 247.41it/s]"
     ]
    },
    {
     "name": "stdout",
     "output_type": "stream",
     "text": [
      "[0.999, 1.001, 0.999, 1.001, 0.999, 1.001, 0.999, 1.001, 0.999, 1.001, 0.999, 1.001, 0.999, 1.001, 0.999, 1.001, 0.999, 1.001, 0.999, 1.001]\n"
     ]
    },
    {
     "name": "stderr",
     "output_type": "stream",
     "text": [
      "\n"
     ]
    },
    {
     "data": {
      "text/plain": [
       "<matplotlib.image.AxesImage at 0x7fa7eead9750>"
      ]
     },
     "execution_count": 114,
     "metadata": {},
     "output_type": "execute_result"
    },
    {
     "data": {
      "image/png": "[encoded data removed]",
      "text/plain": [
       "<Figure size 432x288 with 1 Axes>"
      ]
     },
     "metadata": {
      "needs_background": "light"
     },
     "output_type": "display_data"
    }
   ],
   "source": [
    "sample = zoom_mnist.generate_train()\n",
    "plt.imshow(np.concatenate(sample, axis = 1))"
   ]
  },
  {
   "cell_type": "code",
   "execution_count": 72,
   "metadata": {},
   "outputs": [],
   "source": [
    "def cv2_clipped_zoom(img, zoom_factor=0):\n",
    "    \"\"\"\n",
    "    Source: https://stackoverflow.com/questions/37119071/scipy-rotate-and-zoom-an-image-without-changing-its-dimensions\n",
    "    \n",
    "    Center zoom in/out of the given image and returning an enlarged/shrinked view of \n",
    "    the image without changing dimensions\n",
    "    ------\n",
    "    Args:\n",
    "        img : ndarray\n",
    "            Image array\n",
    "        zoom_factor : float\n",
    "            amount of zoom as a ratio [0 to Inf). Default 0.\n",
    "    ------\n",
    "    Returns:\n",
    "        result: ndarray\n",
    "           numpy ndarray of the same shape of the input img zoomed by the specified factor.          \n",
    "    \"\"\"\n",
    "    if zoom_factor == 0:\n",
    "        return img\n",
    "\n",
    "\n",
    "    height, width = img.shape[:2]\n",
    "    # print(height, width) # It's also the final desired shape\n",
    "    new_height, new_width = int(height * zoom_factor), int(width * zoom_factor)\n",
    "    \n",
    "    ### Crop only the part that will remain in the result (more efficient)\n",
    "    # Centered bbox of the final desired size in resized (larger/smaller) image coordinates\n",
    "    y1, x1 = max(0, new_height - height) // 2, max(0, new_width - width) // 2\n",
    "    y2, x2 = y1 + height, x1 + width\n",
    "    bbox = np.array([y1,x1,y2,x2])\n",
    "    # Map back to original image coordinates\n",
    "    bbox = (bbox / zoom_factor).astype(int)\n",
    "    y1, x1, y2, x2 = bbox\n",
    "    cropped_img = img[y1:y2, x1:x2]\n",
    "    \n",
    "    # Handle padding when downscaling\n",
    "    resize_height, resize_width = min(new_height, height), min(new_width, width)\n",
    "    pad_height1, pad_width1 = (height - resize_height) // 2, (width - resize_width) //2\n",
    "    pad_height2, pad_width2 = (height - resize_height) - pad_height1, (width - resize_width) - pad_width1\n",
    "    pad_spec = [(pad_height1, pad_height2), (pad_width1, pad_width2)] + [(0,0)] * (img.ndim - 2)\n",
    "    \n",
    "    result = cv2.resize(cropped_img, (resize_width, resize_height))\n",
    "    result = np.pad(result, pad_spec, mode='constant')\n",
    "    assert result.shape[0] == height and result.shape[1] == width\n",
    "    return result"
   ]
  },
  {
   "cell_type": "code",
   "execution_count": 69,
   "metadata": {},
   "outputs": [
    {
     "name": "stdout",
     "output_type": "stream",
     "text": [
      "32 32\n",
      "(32, 32)\n"
     ]
    }
   ],
   "source": [
    "img = np.random.randn(32, 32)\n",
    "zoomed = cv2_clipped_zoom(img, 2)"
   ]
  },
  {
   "cell_type": "markdown",
   "metadata": {},
   "source": [
    "# Shifting instead"
   ]
  },
  {
   "cell_type": "code",
   "execution_count": 118,
   "metadata": {},
   "outputs": [
    {
     "data": {
      "text/plain": [
       "<matplotlib.image.AxesImage at 0x7fa7ec868590>"
      ]
     },
     "execution_count": 118,
     "metadata": {},
     "output_type": "execute_result"
    },
    {
     "data": {
      "image/png": "[encoded data removed]",
      "text/plain": [
       "<Figure size 432x288 with 1 Axes>"
      ]
     },
     "metadata": {
      "needs_background": "light"
     },
     "output_type": "display_data"
    }
   ],
   "source": [
    "img = mnist.train_images()[0]\n",
    "plt.imshow(img)"
   ]
  },
  {
   "cell_type": "code",
   "execution_count": 130,
   "metadata": {},
   "outputs": [
    {
     "data": {
      "text/plain": [
       "<matplotlib.image.AxesImage at 0x7fa7e8d8e910>"
      ]
     },
     "execution_count": 130,
     "metadata": {},
     "output_type": "execute_result"
    },
    {
     "data": {
      "image/png": "[encoded data removed]",
      "text/plain": [
       "<Figure size 432x288 with 1 Axes>"
      ]
     },
     "metadata": {
      "needs_background": "light"
     },
     "output_type": "display_data"
    }
   ],
   "source": [
    "rolled_img = np.roll(img, 5, axis = 0)\n",
    "rolled_img[:5,:] = 0\n",
    "plt.imshow(rolled_img)"
   ]
  },
  {
   "cell_type": "code",
   "execution_count": 194,
   "metadata": {},
   "outputs": [],
   "source": [
    "def shift_left(img, amt = -2): \n",
    "    left_img = np.roll(img, amt, axis = 1)\n",
    "    left_img[:,amt:] = 0 \n",
    "\n",
    "    return left_img\n",
    "\n",
    "def shift_right(img, amt = 2): \n",
    "    right_img = np.roll(img, amt, axis = 1)\n",
    "    right_img[:,:amt] = 0 \n",
    "\n",
    "    return right_img\n",
    "\n",
    "def shift_down(img, amt = 2): \n",
    "    down_img = np.roll(img, amt, axis = 0)\n",
    "    down_img[:amt,:] = 0 \n",
    "\n",
    "    return down_img\n",
    "\n",
    "def shift_up(img, amt = -2): \n",
    "    down_img = np.roll(img, amt, axis = 0)\n",
    "    down_img[amt:,:] = 0 \n",
    "\n",
    "    return down_img\n",
    "\n",
    "\n",
    "left_img = shift_left(img, -1)\n",
    "right_img = shift_right(img, 4)\n",
    "down_img = shift_down(img, 10)\n",
    "up_img = shift_up(img, -10)\n",
    "\n",
    "# plt.imshow(left_img)\n",
    "# plt.imshow(right_img)\n",
    "# plt.imshow(down_img)\n",
    "# plt.imshow(up_img)\n"
   ]
  },
  {
   "cell_type": "code",
   "execution_count": 195,
   "metadata": {},
   "outputs": [],
   "source": [
    "def get_shifts(img, shift_steps):\n",
    "    for shift_value in shift_steps:\n",
    "        if shift_value == 0: \n",
    "            img = shift_down(img)\n",
    "        elif shift_value == 1: \n",
    "            img = shift_up(img)\n",
    "        elif shift_value == 2: \n",
    "            img = shift_left(img)\n",
    "        elif shift_value == 3: \n",
    "            img = shift_right(img)\n",
    "        \n",
    "        yield img"
   ]
  },
  {
   "cell_type": "code",
   "execution_count": 196,
   "metadata": {},
   "outputs": [
    {
     "data": {
      "text/plain": [
       "[1, 1, 1, 1, 1, 1, 1, 1, 1, 1, 1, 1, 1, 1, 1, 1, 1, 1, 1, 1]"
      ]
     },
     "execution_count": 196,
     "metadata": {},
     "output_type": "execute_result"
    }
   ],
   "source": [
    "\n",
    "\n",
    "def create_shift_sequence(seq_len): \n",
    "    shift_seq = []\n",
    "    # 2 shifts to right, 2 shifts down, 2 shifts left, 2 shifts up\n",
    "    # basic_cycle = [3, 0, 2, 1]\n",
    "    basic_cycle = [1]\n",
    "\n",
    "    shift_seq.extend(basic_cycle * int(seq_len//len(basic_cycle)))\n",
    "    shift_seq.extend(basic_cycle[:(seq_len%len(basic_cycle))])\n",
    "    \n",
    "    return shift_seq\n",
    "\n",
    "create_shift_sequence(20)\n"
   ]
  },
  {
   "cell_type": "code",
   "execution_count": 197,
   "metadata": {},
   "outputs": [
    {
     "name": "stderr",
     "output_type": "stream",
     "text": [
      "1it [00:00, 169.02it/s]\n"
     ]
    },
    {
     "data": {
      "text/plain": [
       "<matplotlib.image.AxesImage at 0x7fa7de988250>"
      ]
     },
     "execution_count": 197,
     "metadata": {},
     "output_type": "execute_result"
    },
    {
     "data": {
      "image/png": "[encoded data removed]",
      "text/plain": [
       "<Figure size 432x288 with 1 Axes>"
      ]
     },
     "metadata": {
      "needs_background": "light"
     },
     "output_type": "display_data"
    }
   ],
   "source": [
    "def shift_image(img, seq_len):\n",
    "    shift_list = []\n",
    "    shift_seq = create_shift_sequence(seq_len)\n",
    "    for idx, shift in enumerate(get_shifts(img, shift_seq)):\n",
    "        shift_list.append(binarize(shift))\n",
    "    return shift_list, shift_seq\n",
    "\n",
    "def transform_image(img, seq_len):\n",
    "    \"\"\"Rotate and shift. \"\"\"\n",
    "    transformed_images = []\n",
    "    rotation_steps = [360*2/seq_len]*seq_len\n",
    "    shift_steps = create_shift_sequence(seq_len)\n",
    "    \n",
    "    for idx, rotation in enumerate(get_rotations(img, rotation_steps)):\n",
    "        img = next(get_shifts(rotation, shift_steps))\n",
    "        transformed_images.append(binarize(img))\n",
    "    \n",
    "    return transformed_images\n",
    "\n",
    "\n",
    "class eMNIST():\n",
    "    def __init__(self, filepath, seq_len=5, digits=range(10), train_len = 10000, test_len = 1000):\n",
    "        self.mnist_train = [(img, label) for img, label in zip(mnist.train_images()[:train_len], mnist.train_labels()[:train_len]) if label in digits]\n",
    "        self.mnist_test = [(img, label) for img, label in zip(mnist.test_images()[:test_len], mnist.test_labels()[:test_len]) if label in digits]        \n",
    "        \n",
    "        train_images = []\n",
    "        test_images = []\n",
    "\n",
    "        self.seq_len = seq_len \n",
    "\n",
    "    def generate_train(self): \n",
    "        # remove the saving function \n",
    "        for i, (img, label) in tqdm(enumerate(self.mnist_train)):\n",
    "            train_img = transform_image(img, self.seq_len)\n",
    "            train_img = np.asarray(train_img).astype(np.float32)\n",
    "            image = np.zeros((self.seq_len, 32,32))\n",
    "            image[:, 2:30, 2:30] = train_img\n",
    "        \n",
    "        return image \n",
    "\n",
    "e_mnist = eMNIST(filepath = None, seq_len = 20, train_len= 1, test_len=0)\n",
    "sample = e_mnist.generate_train()\n",
    "plt.imshow(np.concatenate(sample, axis = 1))"
   ]
  },
  {
   "cell_type": "markdown",
   "metadata": {},
   "source": [
    "# Combine shift and healing MNIST\n",
    "\n",
    "Call this eMNIST"
   ]
  },
  {
   "cell_type": "code",
   "execution_count": 260,
   "metadata": {},
   "outputs": [
    {
     "name": "stderr",
     "output_type": "stream",
     "text": [
      "1it [00:00, 42.82it/s]"
     ]
    },
    {
     "name": "stdout",
     "output_type": "stream",
     "text": [
      "(20, 64, 64)\n"
     ]
    },
    {
     "name": "stderr",
     "output_type": "stream",
     "text": [
      "\n"
     ]
    },
    {
     "data": {
      "text/plain": [
       "<matplotlib.image.AxesImage at 0x7fa38948e290>"
      ]
     },
     "execution_count": 260,
     "metadata": {},
     "output_type": "execute_result"
    },
    {
     "data": {
      "image/png": "[encoded data removed]",
      "text/plain": [
       "<Figure size 1440x720 with 1 Axes>"
      ]
     },
     "metadata": {
      "needs_background": "light"
     },
     "output_type": "display_data"
    }
   ],
   "source": [
    "class eMNIST():\n",
    "    def __init__(self, filepath, seq_len=5, digits=range(10), train_len = 10000, test_len = 1000):\n",
    "        self.mnist_train = [(img, label) for img, label in zip(mnist.train_images()[:train_len], mnist.train_labels()[:train_len]) if label in digits]\n",
    "        self.mnist_test = [(img, label) for img, label in zip(mnist.test_images()[:test_len], mnist.test_labels()[:test_len]) if label in digits]        \n",
    "        \n",
    "        train_images = []\n",
    "        test_images = []\n",
    "\n",
    "        self.seq_len = seq_len \n",
    "\n",
    "    def transform_image(self, img): \n",
    "        rotation_steps = [360*2/self.seq_len]*self.seq_len\n",
    "        shift_steps = self.create_shift_sequence(self.seq_len) \n",
    "        transformed_images = []\n",
    "\n",
    "        for rotate_value, shift_value in zip(rotation_steps, shift_steps): \n",
    "            # print(rotate_value, shift_value)\n",
    "            img = self.rotate(img, rotate_value)\n",
    "            img = self.shift(img, shift_value)\n",
    "            transformed_images.append(img)\n",
    "\n",
    "        return transformed_images\n",
    "\n",
    "    def rotate(self, img, rotate_value): \n",
    "        img = scipy.ndimage.rotate(img, rotate_value, reshape=False)\n",
    "        return img \n",
    "\n",
    "    def shift(self, img, shift_value): \n",
    "        if shift_value == 0: \n",
    "            img = self.shift_down(img)\n",
    "        elif shift_value == 1: \n",
    "            img = self.shift_up(img)\n",
    "        elif shift_value == 2: \n",
    "            img = self.shift_left(img)\n",
    "        elif shift_value == 3: \n",
    "            img = self.shift_right(img)\n",
    "\n",
    "        return img \n",
    "\n",
    "    def create_shift_sequence(self, seq_len): \n",
    "        shift_seq = []\n",
    "        # basic_cycle = [3, 0, 2, 1] # right, down, left, up\n",
    "        basic_cycle = [1] \n",
    "\n",
    "        shift_seq.extend(basic_cycle * int(seq_len//len(basic_cycle)))\n",
    "        shift_seq.extend(basic_cycle[:(seq_len%len(basic_cycle))])\n",
    "        \n",
    "        return shift_seq\n",
    "        \n",
    "    def generate_train(self): \n",
    "        # remove the saving function \n",
    "        for i, (img, label) in tqdm(enumerate(self.mnist_train)):\n",
    "            image = np.zeros((64,64))\n",
    "            image[18:46, 18:46] = img\n",
    "            train_img = self.transform_image(image)\n",
    "            train_img = np.asarray(train_img).astype(np.float32)\n",
    "            train_img = np.where(train_img > 127, 0.5, 0) # binarise\n",
    "            print(train_img.shape)\n",
    "        return train_img \n",
    "\n",
    "    def shift_left(self, img, amt = -2): \n",
    "        left_img = np.roll(img, amt, axis = 1)\n",
    "        left_img[:,amt:] = 0 \n",
    "\n",
    "        return left_img\n",
    "\n",
    "    def shift_right(self, img, amt = 2): \n",
    "        right_img = np.roll(img, amt, axis = 1)\n",
    "        right_img[:,:amt] = 0 \n",
    "\n",
    "        return right_img\n",
    "\n",
    "    def shift_down(self, img, amt = 2): \n",
    "        down_img = np.roll(img, amt, axis = 0)\n",
    "        down_img[:amt,:] = 0 \n",
    "\n",
    "        return down_img\n",
    "\n",
    "    def shift_up(self, img, amt = -2): \n",
    "        down_img = np.roll(img, amt, axis = 0)\n",
    "        down_img[amt:,:] = 0 \n",
    "\n",
    "        return down_img\n",
    "\n",
    "e_mnist = eMNIST(filepath = None, seq_len = 20, train_len= 1, test_len=0)\n",
    "sample = e_mnist.generate_train()\n",
    "plt.rcParams['figure.figsize'] = [20, 10]\n",
    "plt.imshow(np.concatenate(sample, axis = 1))\n",
    "# print(sample)"
   ]
  },
  {
   "cell_type": "code",
   "execution_count": null,
   "metadata": {},
   "outputs": [],
   "source": [
    "# One way will be to rotate in a 28 dimension image \n",
    "# and put that in a 64 dim image \n",
    "# shift in the 64 image vector \n",
    "# crop out the 28 vector \n",
    "# rotate and repeat \n",
    "\n",
    "# Not sure if this makes sense "
   ]
  }
 ],
 "metadata": {
  "kernelspec": {
   "display_name": "Python 3.7.4 ('base')",
   "language": "python",
   "name": "python3"
  },
  "language_info": {
   "codemirror_mode": {
    "name": "ipython",
    "version": 3
   },
   "file_extension": ".py",
   "mimetype": "text/x-python",
   "name": "python",
   "nbconvert_exporter": "python",
   "pygments_lexer": "ipython3",
   "version": "3.7.4"
  },
  "orig_nbformat": 4,
  "vscode": {
   "interpreter": {
    "hash": "46fa279ed4f7e0173bbb4df60abc98f0d54517d90d227684db4514501155965b"
   }
  }
 },
 "nbformat": 4,
 "nbformat_minor": 2
}
