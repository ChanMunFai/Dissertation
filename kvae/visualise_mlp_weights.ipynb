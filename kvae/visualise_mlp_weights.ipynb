{
 "cells": [
  {
   "cell_type": "code",
   "execution_count": 1,
   "metadata": {},
   "outputs": [],
   "source": [
    "import os \n",
    "import argparse \n",
    "import numpy as np\n",
    "import matplotlib.pyplot as plt\n",
    "import torch\n",
    "import torch.nn as nn\n",
    "from torch.distributions import MultivariateNormal, Normal, Bernoulli\n",
    "import torchvision"
   ]
  },
  {
   "cell_type": "code",
   "execution_count": 2,
   "metadata": {},
   "outputs": [
    {
     "data": {
      "text/plain": [
       "'/Users/chanmunfai/Documents/Imperial/Individual Project/Code_July/Dissertation'"
      ]
     },
     "execution_count": 2,
     "metadata": {},
     "output_type": "execute_result"
    }
   ],
   "source": [
    "os.chdir('/Users/chanmunfai/Documents/Imperial/Individual Project//Code_July/Dissertation/')\n",
    "os.getcwd()\n"
   ]
  },
  {
   "cell_type": "code",
   "execution_count": 3,
   "metadata": {},
   "outputs": [],
   "source": [
    "from kvae.modules import KvaeEncoder, Decoder64, DecoderSimple \n",
    "from kvae.elbo_loss import ELBO\n",
    "from kvae.model_kvae import KalmanVAE\n",
    "from data.MovingMNIST import MovingMNIST\n",
    "from dataset.bouncing_ball.bouncing_data import BouncingBallDataLoader"
   ]
  },
  {
   "cell_type": "code",
   "execution_count": 5,
   "metadata": {},
   "outputs": [
    {
     "name": "stdout",
     "output_type": "stream",
     "text": [
      "torch.Size([32, 50, 1, 32, 32])\n"
     ]
    }
   ],
   "source": [
    "train_set = BouncingBallDataLoader('dataset/bouncing_ball/50/train')\n",
    "train_loader = torch.utils.data.DataLoader(\n",
    "            dataset=train_set, \n",
    "            batch_size=32, \n",
    "            shuffle=False)\n",
    "\n",
    "data, _ = next(iter(train_loader))\n",
    "print(data.size())"
   ]
  },
  {
   "cell_type": "code",
   "execution_count": 19,
   "metadata": {},
   "outputs": [
    {
     "data": {
      "text/plain": [
       "<All keys matched successfully>"
      ]
     },
     "execution_count": 19,
     "metadata": {},
     "output_type": "execute_result"
    }
   ],
   "source": [
    "class Args:\n",
    "  subdirectory = \"experiment_bb20\"\n",
    "  dataset = \"BouncingBall_50\"\n",
    "  model = 'KVAE'\n",
    "  alpha = \"rnn\"\n",
    "  lstm_layers = 2\n",
    "  x_dim = 1\n",
    "  a_dim = 2\n",
    "  z_dim = 4\n",
    "  K = 3\n",
    "  batch_size = 32\n",
    "  device = \"cpu\"\n",
    "  scale = 0.3\n",
    "\n",
    "args=Args()\n",
    "kvae = KalmanVAE(args = args).to(args.device)\n",
    "\n",
    "state_dict_path = \"saves/BouncingBall_50/kvae/v2/scale=0.3/scheduler_step=20/kvae_state_dict_scale=0.3_80.pth\" \n",
    "state_dict = torch.load(state_dict_path, map_location = args.device)\n",
    "kvae.load_state_dict(state_dict)"
   ]
  },
  {
   "cell_type": "code",
   "execution_count": 20,
   "metadata": {},
   "outputs": [],
   "source": [
    "data, target = next(iter(train_loader))\n",
    "data = data.to(args.device)\n",
    "data = (data - data.min()) / (data.max() - data.min())\n",
    "data = torch.where(data > 0.5, 1.0, 0.0)\n",
    "\n",
    "target = target.to(args.device)\n",
    "target = (target - target.min()) / (target.max() - target.min())\n",
    "target = torch.where(target > 0.5, 1.0, 0.0)"
   ]
  },
  {
   "cell_type": "code",
   "execution_count": 21,
   "metadata": {},
   "outputs": [],
   "source": [
    "x_predicted, _, _ = kvae.predict(data, 50)"
   ]
  },
  {
   "cell_type": "code",
   "execution_count": 43,
   "metadata": {},
   "outputs": [
    {
     "name": "stdout",
     "output_type": "stream",
     "text": [
      "torch.Size([3, 36, 1702])\n",
      "(36, 1702, 3)\n"
     ]
    }
   ],
   "source": [
    "batch_item = 5 # problematic: 3, 4, 5\n",
    "example_x_predicted = x_predicted[batch_item]\n",
    "\n",
    "predicted_frames = torchvision.utils.make_grid(\n",
    "                                        example_x_predicted,\n",
    "                                        example_x_predicted.size(0)\n",
    "                                        )\n",
    "\n",
    "print(predicted_frames.shape)\n",
    "predicted_frames = predicted_frames.cpu().permute(1, 2, 0).numpy()\n",
    "print(predicted_frames.shape)"
   ]
  },
  {
   "cell_type": "code",
   "execution_count": 44,
   "metadata": {},
   "outputs": [
    {
     "data": {
      "text/plain": [
       "<matplotlib.image.AxesImage at 0x7fa143e839d0>"
      ]
     },
     "execution_count": 44,
     "metadata": {},
     "output_type": "execute_result"
    },
    {
     "data": {
      "image/png": "[encoded data removed]",
      "text/plain": [
       "<Figure size 1152x864 with 1 Axes>"
      ]
     },
     "metadata": {
      "needs_background": "light"
     },
     "output_type": "display_data"
    }
   ],
   "source": [
    "plt.rcParams[\"figure.figsize\"] = (16,12)\n",
    "plt.imshow(predicted_frames)"
   ]
  },
  {
   "cell_type": "markdown",
   "metadata": {},
   "source": [
    "# Visualise weights"
   ]
  },
  {
   "cell_type": "code",
   "execution_count": 64,
   "metadata": {},
   "outputs": [
    {
     "name": "stdout",
     "output_type": "stream",
     "text": [
      "torch.Size([100, 100, 2])\n",
      "torch.Size([100, 100, 50])\n",
      "(100, 100, 3)\n"
     ]
    },
    {
     "data": {
      "image/png": "[encoded data removed]",
      "text/plain": [
       "<Figure size 864x288 with 3 Axes>"
      ]
     },
     "metadata": {
      "needs_background": "light"
     },
     "output_type": "display_data"
    }
   ],
   "source": [
    "N = 100\n",
    "xlist = np.linspace(-30, 30, N)\n",
    "ylist = np.linspace(-30, 30, N)\n",
    "X, Y = np.meshgrid(xlist, ylist)\n",
    "X_t = torch.from_numpy(X).unsqueeze(-1)\n",
    "Y_t = torch.from_numpy(Y).unsqueeze(-1)\n",
    "dom = torch.cat([X_t,Y_t], dim=-1).float()\n",
    "print(dom.shape) # BS X T X a_dim \n",
    "dyn_emb, _ = kvae.parameter_net(dom) \n",
    "print(dyn_emb.shape) # BS X T X 50 \n",
    "dyn_emb = kvae.alpha_out(dyn_emb.reshape(-1,50))\n",
    "Z = dyn_emb.softmax(-1).reshape(N,N,-1).detach().numpy()\n",
    "print(Z.shape) # BS X T X 3 \n",
    "\n",
    "fig = plt.figure(figsize=(12,4))\n",
    "for i in range(3):\n",
    "    ax = plt.subplot(1,3,i+1)\n",
    "    cp = ax.contourf(X, Y, Z[:,:,i])\n",
    "plt.show()\n"
   ]
  },
  {
   "cell_type": "code",
   "execution_count": null,
   "metadata": {},
   "outputs": [],
   "source": []
  }
 ],
 "metadata": {
  "kernelspec": {
   "display_name": "Python 3.7.4 ('base')",
   "language": "python",
   "name": "python3"
  },
  "language_info": {
   "codemirror_mode": {
    "name": "ipython",
    "version": 3
   },
   "file_extension": ".py",
   "mimetype": "text/x-python",
   "name": "python",
   "nbconvert_exporter": "python",
   "pygments_lexer": "ipython3",
   "version": "3.7.4"
  },
  "orig_nbformat": 4,
  "vscode": {
   "interpreter": {
    "hash": "46fa279ed4f7e0173bbb4df60abc98f0d54517d90d227684db4514501155965b"
   }
  }
 },
 "nbformat": 4,
 "nbformat_minor": 2
}
